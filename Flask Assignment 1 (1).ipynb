{
 "cells": [
  {
   "cell_type": "markdown",
   "id": "f029db24-af82-4477-9012-6bae17a2e30e",
   "metadata": {},
   "source": [
    "Q1. What is Flask Framework? What are the advantages of Flask Framework?"
   ]
  },
  {
   "cell_type": "markdown",
   "id": "f81f1117-5ea8-4af0-b111-ac61e14197e4",
   "metadata": {},
   "source": [
    "Ans :- \n",
    "The framework is the basis upon which software programs are built. It serves as a foundation for software developers, allowing them to create a variety of applications for certain platforms. It is a set of functions and predefined classes used to connect with the system software and handle inputs and outputs.\n",
    "\n",
    "It simplifies the life of a developer while giving them the ability to use certain extensions and makes the online applications scalable and maintainable.\n",
    "\n",
    "Flask is a microframework for Python that encourages rapid development and clean code. It provides a simple, minimalist API that lets you write flexible and efficient web applications. It provides you with the tools you need to create an application quickly and easily, without having to deal with the complicated code that you usually have to write when you use other frameworks like Django or Ruby on Rails.\n",
    "\n",
    "Basically, it helps you to create a website that has all the functionality that you need but without having to worry about writing the code yourself.\n",
    "\n",
    "Flask allows you to create applications like this by handling all the complex back-end code for you. This makes it easy for you to just focus on building your application, rather than having to learn a bunch of complex coding skills to get everything working!\n",
    "\n",
    "flask web\n",
    "Flask also has the benefit of being incredibly lightweight and simple to use. Flask is based on Werkzeug, making it highly lightweight and easy to deploy. This means that you can run your web application on a local server for testing purposes without having to deal with the hassle of deploying to production servers every time you want to test something out.\n",
    "\n",
    "This makes developing your application really simple and convenient! There are plenty of other options available when constructing a web application with Flask. For example, you can use it to set up databases and create web services to communicate with your server over HTTP!\n",
    "Flask framework in itself is different from the other archetypes as it allows web developers to be flexible and to comfortably accommodate the frequently released changes in the software development community.\n",
    "We use the Flask framework for developing Web Applications in Python programming language. It integrates with other third-party services and APIs to bring richness and meaning to the application under development. Flask’s core concepts are simple, and it has a tiny footprint.\n",
    "Based on Werkzeug WSGI (Python Web Server Gateway Interface (WSGI) is an interface between a Python application or framework and a Web server. It has been widely accepted, and it has basically achieved its portability. The goal) toolbox and Jinja2 template engine. Flask uses BSD authorization.Flask does not have a default database or form verification tool. However, Flask retains the flexibility of expansion, and Flask-extension can be used to add these functions: ORM, form verification tools, file uploads, and various open authentication technologies.From blogging applications to cloning a facebook or twitter, in theory you can do anything with Flask. There are many libraries that can be used directly, such as flask-sockets, flask-google-maps, etc., and the Flask framework supports MySQL, Postgresql, MongoDB and many other databases.\n",
    "\n",
    "Advantages of Flask\n",
    "Scalable\n",
    "Size is everything, and Flask’s status as a microframework means that you can use it to grow a tech project such as a web app incredibly quickly. If you want to make an app that starts small, but has the potential to grow quickly and in directions you haven’t completely worked out yet, then it’s an ideal choice. Its simplicity of use and few dependencies enable it to run smoothly even as it scales up and up.\n",
    "\n",
    "Flexible\n",
    "This is the core feature of Flask, and one of its biggest advantages. To paraphrase one of the principles of the Zen of Python, simplicity is better than complexity, because it can be easily rearranged and moved around.\n",
    "\n",
    "Not only is this helpful in terms of allowing your project to move in another direction easily, it also makes sure that the structure won’t collapse when a part is altered. The minimal nature of Flask and its aptitude for developing smaller web apps means that it’s even more flexible than Django itself.\n",
    "\n",
    "Easy to negotiate\n",
    "Like Django, being able to find your way around easily is key for allowing web developers to concentrate on just coding quickly, without getting bogged down. At its core, the microframework is easy to understand for web developers, not just saving them time and effort but also giving them more control over their code and what is possible.\n",
    "\n",
    "Lightweight\n",
    "When we use this term in relation to a tool or framework, we’re talking about the design of it—there are few constituent parts that need to be assembled and reassembled, and it doesn’t rely on a large number of extensions to function. This design gives web developers a certain level of control.\n",
    "\n",
    "Flask also supports modular programming, which is where its functionality can be split into several interchangeable modules. Each module acts as an independent building block, which can execute one part of the functionality. Together this means that the whole constituent parts of the structure are flexible, moveable, and testable on their own.\n",
    "\n",
    "Documentation\n",
    "Following the creator’s own theory that “nice documentation design makes you actually write documentation,” Flask users will find a healthy number of examples and tips arranged in a structured manner. This encourages developers to use the framework, as they can easily get introduced to the different aspects and capabilities of the tool. You’ll find the Flask documentation on their official website."
   ]
  },
  {
   "cell_type": "markdown",
   "id": "8804cffa-aeb7-4497-ba76-f25914468a71",
   "metadata": {},
   "source": [
    "Q2. Create a simple Flask application to display ‘Hello World!!’. Attach the screenshot of the output in \n",
    "Jupyter Notebook."
   ]
  },
  {
   "cell_type": "markdown",
   "id": "70535e6f-24a3-469a-93d9-1d42419e9499",
   "metadata": {},
   "source": [
    "<img src=\"Screenshot (4).png\">"
   ]
  },
  {
   "cell_type": "markdown",
   "id": "928a1f28-4657-4fea-88f3-fe7b760bfdf1",
   "metadata": {},
   "source": [
    "Q3. What is App routing in Flask? Why do we use app routes?"
   ]
  },
  {
   "cell_type": "markdown",
   "id": "fc41cb45-0e10-4b64-8e09-53e119f51e2c",
   "metadata": {},
   "source": [
    "Ans :- A route is the association between a URL and the function that handles it\n",
    "\n",
    "App routing is used to map the specific URL with the associated function that is intended to perform some task.\n",
    "The routing technique helps a user remember application URLs and is useful to access the desired page directly without having to navigate from the home page.\n",
    "\n",
    "The route() decorator in Flask is used to bind URL to a function.\n",
    "@app.route(\"/\") is a Python decorator that Flask provides to assign URLs in our app to functions easily.\n",
    "The URL (‘/’) is linked with the root URL in every application.  \n",
    "There are two ways through which we can bind the URLs to their associated function:-\n",
    "\n",
    "1.) Using route() decorator\n",
    "\n",
    "2.) Using add_url_rule() function\n",
    "\n",
    "Using route() decorator:-\n",
    "\n",
    "In the following example, we bind the URLs (“/”) and (“/hello”) with the root() and hello() functions, respectively, using the app.route() decorator.\n",
    "In app.py\n",
    "\n",
    "from flask import Flask\n",
    "\n",
    "app = Flask(__name__)\n",
    "\n",
    "\n",
    "@app.route(\"/\")\n",
    "def root():\n",
    "return \"Pwskills\"\n",
    "\n",
    "@app.route(\"/hello\")\n",
    "def hello():\n",
    "return \"Hello Coders, Welcome to Pwskills!!\"\n",
    "\n",
    "if __name__ == \"__main__\":\n",
    "app.run(debug=True)\n",
    "\n",
    "The root() function is mapped with the “/” (root) path, and the hello() function is mapped with the “/hello” path, and we will get the output of the functions rendered on the browser for those paths.\n",
    "\n",
    "Using add_url_rule() function:-\n",
    "\n",
    "Another way of URL mapping is by using the add_url_rule() function. This approach is mainly used to import the view function from another module. In fact, the app.route() calls this function internally.\n",
    "\n",
    "The syntax to use this function is:-\n",
    "\n",
    "add_url_rule(<url rule>, <endpoint>, <view function>)\n",
    "\n",
    "    In the following example, we bind the URLs (“/”) and (“/hello”) with the root() and hello() functions respectively using add_url_rule() function.\n",
    "\n",
    "In app.py\n",
    "\n",
    "from flask import Flask\n",
    "\n",
    "app = Flask(__name__)\n",
    "\n",
    "\n",
    "def root():\n",
    "return \"pwskills\"\n",
    "\n",
    "def hello():\n",
    "return \"Hello Coders, Welcome to pwskills!!\"\n",
    "\n",
    "app.add_url_rule('/','root',root); \n",
    "app.add_url_rule('/hello','hello',hello); \n",
    "\n",
    "if __name__ == \"__main__\":\n",
    "app.run(debug=True)\n",
    "    \n",
    "we use app routing beacause :-\n",
    "    \n",
    "1.App routing is used to map the specific URL with the associated function that is intended to perform some task.\n",
    "    \n",
    "2.It is used to access some particular page like Flask Tutorial in the web application.\n",
    "    \n",
    "3.It helps in better management of the structure of the webpage and increases the performance of the site considerably and further enhancements or modifications become really straight forward.\n",
    "    \n",
    "4.Modern web frameworks use the routing technique to help a user remember application URLs.\n",
    "    \n",
    "5.It is useful to access the desired page directly without having to navigate from the home page."
   ]
  },
  {
   "cell_type": "markdown",
   "id": "d03e90d9-9fb0-4a1f-805b-2476cfa4ba63",
   "metadata": {},
   "source": [
    "Q4.  Create a “/welcome” route to display the welcome message “Welcome to ABC Corporation” and a “/” \n",
    "route to show the following details:\n",
    "\n",
    "    Company Name: ABC Corporation\n",
    "\n",
    "    Location: India\n",
    "\n",
    "    Contact Detail: 999-999-9999"
   ]
  },
  {
   "cell_type": "markdown",
   "id": "6bf9d5eb-357e-4e54-9edf-e7cc8b75aafc",
   "metadata": {},
   "source": [
    "<img src = \"Screenshot (5).png\">"
   ]
  },
  {
   "cell_type": "markdown",
   "id": "390f55f0-8736-4743-99d4-476ec5ffa575",
   "metadata": {},
   "source": [
    "<img src = \"Screenshot (6).png\">"
   ]
  },
  {
   "cell_type": "markdown",
   "id": "fddae070-1781-4d25-97f4-bc95dcb8a2bf",
   "metadata": {},
   "source": [
    "Q5. What function is used in Flask for URL Building? Write a Python code to demonstrate the working of the \n",
    "url_for() function."
   ]
  },
  {
   "cell_type": "markdown",
   "id": "f3555035-e4ad-42d6-880d-243f961ba233",
   "metadata": {},
   "source": [
    "Ans :- Flask url_for is defined as a function that enables developers to build and generate URLs on a Flask application. As a best practice, it is the url_for function that is required to be used, as hard coding the URL in templates and view function of the Flask application tends to utilize more time during modification. If we are using hard coding, and in case we would need to change our URL by inserting another element in the URL, we would have to visit each and every template or form in the code library and make the modifications and will lead to overkill. The url_for function is capable of changing this with just a snap of fingers!\n",
    "Syntax:\n",
    "Creating dynamic URL with no key passed:\n",
    "\n",
    "url_for('<Function name>')\n",
    "Note: We need to make sure that the function name doesn’t carry any argument, else it might lead to an error.\n",
    "    \n",
    "Creating dynamic URL with a key and corresponding value passed:\n",
    "\n",
    "url_for('<Function name>',<key> = <value>)\n",
    ">/pre> Redirect to a URL using Flask (assuming we are passing key and value pair):\n",
    "redirect(url_for('<Function name>',<key> = <value>))"
   ]
  },
  {
   "cell_type": "code",
   "execution_count": null,
   "id": "41d8ec1c-a1ba-4b96-814d-327f2c08bc16",
   "metadata": {},
   "outputs": [],
   "source": [
    "from flask import Flask, redirect, url_for\n",
    "app = Flask(__name__)\n",
    "\n",
    "@app.route('/admin')\n",
    "def hello_admin():\n",
    "   return 'Hello Admin'\n",
    "\n",
    "@app.route('/guest/<guest>')\n",
    "def hello_guest(guest):\n",
    "   return 'Hello %s as Guest' % guest\n",
    "\n",
    "@app.route('/user/<name>')\n",
    "def hello_user(name):\n",
    "   if name =='admin':\n",
    "      return redirect(url_for('hello_admin'))\n",
    "   else:\n",
    "      return redirect(url_for('hello_guest',guest = name))\n",
    "\n",
    "if __name__ == '__main__':\n",
    "   app.run(debug = True)"
   ]
  }
 ],
 "metadata": {
  "kernelspec": {
   "display_name": "Python 3 (ipykernel)",
   "language": "python",
   "name": "python3"
  },
  "language_info": {
   "codemirror_mode": {
    "name": "ipython",
    "version": 3
   },
   "file_extension": ".py",
   "mimetype": "text/x-python",
   "name": "python",
   "nbconvert_exporter": "python",
   "pygments_lexer": "ipython3",
   "version": "3.10.8"
  }
 },
 "nbformat": 4,
 "nbformat_minor": 5
}
